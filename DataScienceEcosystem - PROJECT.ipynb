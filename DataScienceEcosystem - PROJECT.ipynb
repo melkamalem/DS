{
 "cells": [
  {
   "cell_type": "markdown",
   "id": "a074074c-cb6f-431e-80e1-7b84eb3ba8cd",
   "metadata": {},
   "source": [
    "# Data Science Tools and Ecosystem"
   ]
  },
  {
   "cell_type": "markdown",
   "id": "8584501a-d3b8-449e-bc91-f893b99acbe6",
   "metadata": {},
   "source": [
    "In this notebook, Data Science world is explored"
   ]
  },
  {
   "cell_type": "markdown",
   "id": "f0cef97f-51c1-4889-b904-9ed46b0d75f1",
   "metadata": {},
   "source": [
    "**Objectives:**\n",
    "- List popular languages for Data Science\n",
    "- List commonly used libraries used by Data Scientists\n",
    "- Development environment open source tools used in data science\n",
    "- Evaluating arithmetic expressions in Python"
   ]
  },
  {
   "cell_type": "markdown",
   "id": "363dc683-bdce-4e7e-95bd-c932c6e2fce4",
   "metadata": {},
   "source": [
    "Some of the popular languages that Data Scientists use are:"
   ]
  },
  {
   "cell_type": "markdown",
   "id": "c8f151de-5d92-49b2-9b82-ef7618669ee0",
   "metadata": {},
   "source": [
    "1. Python\n",
    "2. R\n",
    "3. Java\n",
    "4. Scala"
   ]
  },
  {
   "cell_type": "markdown",
   "id": "e64c756f-33a1-4ac3-b510-84afe85144b9",
   "metadata": {},
   "source": [
    "Some of the commonly used libraries used by Data Scientists include:"
   ]
  },
  {
   "cell_type": "markdown",
   "id": "ffea4e13-b60d-47ef-a569-42e7f3ce164e",
   "metadata": {},
   "source": [
    "1. Pandas\n",
    "2. Numpy\n",
    "3. Matplotlib"
   ]
  },
  {
   "cell_type": "markdown",
   "id": "e5f74910-4060-491d-8ca9-0fe0818f65b0",
   "metadata": {},
   "source": [
    "|Data Science Tools|\n",
    "|--------------------|\n",
    "|Apache Spark|\n",
    "|TensorFlow|\n",
    "|Rstudio|"
   ]
  },
  {
   "cell_type": "markdown",
   "id": "3fc149db-e9d6-4659-a7e2-2fb58f2564c3",
   "metadata": {},
   "source": [
    "### Below are a few examples of evaluating arithmetic expressions in Python."
   ]
  },
  {
   "cell_type": "code",
   "execution_count": null,
   "id": "bcca25e9-56b5-473c-9720-4d81d0d0b06f",
   "metadata": {},
   "outputs": [],
   "source": [
    "# This a simple arithmetic expression to mutiply then add integers"
   ]
  },
  {
   "cell_type": "code",
   "execution_count": 1,
   "id": "55e25dae-529e-4ea1-9458-a7c4351159d3",
   "metadata": {},
   "outputs": [
    {
     "data": {
      "text/plain": [
       "17"
      ]
     },
     "execution_count": 1,
     "metadata": {},
     "output_type": "execute_result"
    }
   ],
   "source": [
    "(3*4)+5"
   ]
  },
  {
   "cell_type": "code",
   "execution_count": null,
   "id": "46da9430-5e70-4b9a-b68e-b71aad8f20fc",
   "metadata": {},
   "outputs": [],
   "source": [
    "# This will convert 200 minutes to hours by diving by 60"
   ]
  },
  {
   "cell_type": "code",
   "execution_count": 2,
   "id": "97d7bb04-8b25-4f57-80be-01ea6b1a508e",
   "metadata": {},
   "outputs": [
    {
     "data": {
      "text/plain": [
       "3.3333333333333335"
      ]
     },
     "execution_count": 2,
     "metadata": {},
     "output_type": "execute_result"
    }
   ],
   "source": [
    "200/60"
   ]
  },
  {
   "cell_type": "markdown",
   "id": "6ec32b88-5ac2-4afa-b1ef-787ec3ab4b68",
   "metadata": {},
   "source": [
    "## Author\n",
    "Melkam H."
   ]
  },
  {
   "cell_type": "code",
   "execution_count": null,
   "id": "c01a41fd-43e5-428f-afa7-99fc54b35d36",
   "metadata": {},
   "outputs": [],
   "source": []
  }
 ],
 "metadata": {
  "kernelspec": {
   "display_name": "Python 3 (ipykernel)",
   "language": "python",
   "name": "python3"
  },
  "language_info": {
   "codemirror_mode": {
    "name": "ipython",
    "version": 3
   },
   "file_extension": ".py",
   "mimetype": "text/x-python",
   "name": "python",
   "nbconvert_exporter": "python",
   "pygments_lexer": "ipython3",
   "version": "3.11.9"
  }
 },
 "nbformat": 4,
 "nbformat_minor": 5
}
